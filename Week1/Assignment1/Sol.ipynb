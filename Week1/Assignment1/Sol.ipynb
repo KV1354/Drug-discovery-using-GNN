{
 "cells": [
  {
   "cell_type": "code",
   "execution_count": 142,
   "metadata": {},
   "outputs": [],
   "source": [
    "import numpy as np\n",
    "import pandas as pd\n",
    "import matplotlib.pyplot as plt\n",
    "from scipy.special import expit"
   ]
  },
  {
   "cell_type": "code",
   "execution_count": 30,
   "metadata": {},
   "outputs": [
    {
     "name": "stdout",
     "output_type": "stream",
     "text": [
      "91.85200883832225\n",
      "RMSE : 2.037486351842887\n"
     ]
    }
   ],
   "source": [
    "df = pd.read_csv(\"Student_Performance.csv\")\n",
    "df[\"Extra_one\"] = 1\n",
    "\n",
    "def to_int(x):\n",
    "    if x == \"Yes\":\n",
    "        return 1\n",
    "    else:\n",
    "        return 0\n",
    "    \n",
    "\n",
    "def evaluate_rmse(Y, Y_pred):\n",
    "    error = (Y - Y_pred) ** 2\n",
    "    rmse = np.sqrt(np.mean(error))\n",
    "    print(f\"RMSE : {rmse}\")\n",
    "\n",
    "df[\"Extracurricular Activities\"] = df[\"Extracurricular Activities\"].apply(to_int)\n",
    "reordered_df = df[[\"Extra_one\", \"Hours Studied\", \"Previous Scores\", \"Sleep Hours\", \"Sample Question Papers Practiced\", \"Extracurricular Activities\"]]\n",
    "\n",
    "X = reordered_df.to_numpy()\n",
    "Y = df[\"Performance Index\"]\n",
    "B = np.matmul( np.linalg.inv(np.matmul(X.T, X)), np.matmul(X.T, Y) )\n",
    "\n",
    "Y_pred = np.matmul(X, B)\n",
    "\n",
    "evaluate_rmse(Y, Y_pred)"
   ]
  },
  {
   "cell_type": "code",
   "execution_count": 203,
   "metadata": {},
   "outputs": [],
   "source": [
    "Logistic_df = pd.read_csv(\"framingham.csv\")\n",
    "Logistic_df[\"Extra_one\"] = 1\n",
    "Logistic_df = Logistic_df.dropna()\n",
    "\n",
    "X = Logistic_df[[\"Extra_one\"] + [col for col in Logistic_df.columns if col != \"Extra_one\" and col != \"TenYearCHD\" and col != \"Education\"]]\n",
    "X = X.to_numpy()\n",
    "\n",
    "y = np.array(Logistic_df[\"TenYearCHD\"])\n",
    "y = y.reshape(-1, 1)\n",
    "\n",
    "B = np.array([0 for i in range(X.shape[1])])\n",
    "B = B.reshape(X.shape[1], 1)\n",
    "\n",
    "\n",
    "n = 0.01\n",
    "\n",
    "batch_size = 3656\n",
    "for i in range(40000):\n",
    "    for batch in range(0, X.shape[0], batch_size):\n",
    "        y_pred = expit(np.matmul(X[batch:min(batch + batch_size, X.shape[0])], B))\n",
    "        # print(y_pred.shape)\n",
    "        abse = y_pred - y[batch:min(batch + batch_size, X.shape[0])]\n",
    "        # print(abse.shape, X.shape)\n",
    "        gradient = ( 1 / batch_size ) * np.matmul(abse.T, X[batch:min(batch + batch_size, X.shape[0])])\n",
    "        # print(gradient.shape)\n",
    "        B = B - n * gradient.T\n"
   ]
  },
  {
   "cell_type": "code",
   "execution_count": 204,
   "metadata": {},
   "outputs": [
    {
     "name": "stdout",
     "output_type": "stream",
     "text": [
      "2597 181\n",
      "[[-2.4527547 ]\n",
      " [ 3.55850217]\n",
      " [ 1.29469239]\n",
      " [-6.89672652]\n",
      " [-1.45418655]\n",
      " [ 0.86703788]\n",
      " [ 1.24424372]\n",
      " [ 0.39659647]\n",
      " [ 6.10047715]\n",
      " [ 1.13137566]\n",
      " [-1.77657987]\n",
      " [ 0.61310917]\n",
      " [-2.0773937 ]\n",
      " [-2.40936763]\n",
      " [-1.86577231]\n",
      " [-0.11639432]]\n",
      "(3656, 16)\n"
     ]
    }
   ],
   "source": [
    "classified_pred = expit(np.matmul(X, B))\n",
    "false_positives = 0\n",
    "false_negatives = 0\n",
    "for i in range(classified_pred.shape[0]):\n",
    "    if classified_pred[i] != y[i] and classified_pred[i] == 0:\n",
    "        false_negatives += 1\n",
    "    elif classified_pred[i] != y[i]:\n",
    "        false_positives += 1\n",
    "print(false_positives, false_negatives)\n",
    "print(B)\n",
    "print(X.shape)"
   ]
  }
 ],
 "metadata": {
  "kernelspec": {
   "display_name": "Python 3",
   "language": "python",
   "name": "python3"
  },
  "language_info": {
   "codemirror_mode": {
    "name": "ipython",
    "version": 3
   },
   "file_extension": ".py",
   "mimetype": "text/x-python",
   "name": "python",
   "nbconvert_exporter": "python",
   "pygments_lexer": "ipython3",
   "version": "3.10.12"
  }
 },
 "nbformat": 4,
 "nbformat_minor": 2
}
